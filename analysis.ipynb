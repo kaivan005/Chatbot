{
 "cells": [
  {
   "cell_type": "code",
   "execution_count": 6,
   "metadata": {},
   "outputs": [],
   "source": [
    "import pandas as pd"
   ]
  },
  {
   "cell_type": "code",
   "execution_count": 7,
   "metadata": {},
   "outputs": [],
   "source": [
    "data = pd.read_csv('chat_data.csv')"
   ]
  },
  {
   "cell_type": "code",
   "execution_count": 8,
   "metadata": {},
   "outputs": [
    {
     "name": "stdout",
     "output_type": "stream",
     "text": [
      "Number of same values: 551\n",
      "Number of different values: 193\n"
     ]
    }
   ],
   "source": [
    "column1 = data['response_generated']\n",
    "column2 = data['response_for_it']\n",
    "\n",
    "# Use the == operator to compare the values\n",
    "# This will create a new Boolean Series indicating where the values are the same or different\n",
    "comparison_result = column1 == column2\n",
    "\n",
    "# You can also count the number of same and different values\n",
    "same_values = comparison_result.sum()\n",
    "different_values = len(comparison_result) - same_values\n",
    "\n",
    "print(f\"Number of same values: {same_values}\")\n",
    "print(f\"Number of different values: {different_values}\")"
   ]
  },
  {
   "cell_type": "code",
   "execution_count": 9,
   "metadata": {},
   "outputs": [
    {
     "name": "stdout",
     "output_type": "stream",
     "text": [
      "74.05913978494624\n"
     ]
    }
   ],
   "source": [
    "total_value = same_values +different_values\n",
    "accuracy = (same_values/total_value)*100\n",
    "print(accuracy)"
   ]
  },
  {
   "cell_type": "code",
   "execution_count": null,
   "metadata": {},
   "outputs": [],
   "source": []
  }
 ],
 "metadata": {
  "kernelspec": {
   "display_name": "Python 3",
   "language": "python",
   "name": "python3"
  },
  "language_info": {
   "codemirror_mode": {
    "name": "ipython",
    "version": 3
   },
   "file_extension": ".py",
   "mimetype": "text/x-python",
   "name": "python",
   "nbconvert_exporter": "python",
   "pygments_lexer": "ipython3",
   "version": "3.11.4"
  }
 },
 "nbformat": 4,
 "nbformat_minor": 2
}
